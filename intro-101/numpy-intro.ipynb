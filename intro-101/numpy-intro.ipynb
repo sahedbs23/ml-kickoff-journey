{
 "cells": [
  {
   "cell_type": "code",
   "execution_count": 3,
   "id": "59ab1e73-72cd-4b6f-a6ea-913e1dfa7993",
   "metadata": {},
   "outputs": [],
   "source": [
    "import numpy as np"
   ]
  },
  {
   "cell_type": "code",
   "execution_count": 4,
   "id": "0df77c17-ce95-4009-89d3-5ecbe7ca593e",
   "metadata": {},
   "outputs": [
    {
     "data": {
      "text/plain": [
       "array([0., 0., 0., 0., 0., 0., 0., 0., 0., 0.])"
      ]
     },
     "execution_count": 4,
     "metadata": {},
     "output_type": "execute_result"
    }
   ],
   "source": [
    "arr = np.zeros(10)"
   ]
  },
  {
   "cell_type": "code",
   "execution_count": 5,
   "id": "ed5db549-f1ac-4258-a17a-ed620c8a1201",
   "metadata": {},
   "outputs": [
    {
     "data": {
      "text/plain": [
       "array([1., 1., 1., 1., 1., 1., 1., 1., 1., 1.])"
      ]
     },
     "execution_count": 5,
     "metadata": {},
     "output_type": "execute_result"
    }
   ],
   "source": [
    "arr_ones = np.ones(10)"
   ]
  },
  {
   "cell_type": "code",
   "execution_count": 48,
   "id": "d26414e2-6c24-4f0b-bad2-3017c3c1f2b4",
   "metadata": {},
   "outputs": [
    {
     "data": {
      "text/plain": [
       "array([9])"
      ]
     },
     "execution_count": 48,
     "metadata": {},
     "output_type": "execute_result"
    }
   ],
   "source": [
    "const = np.full(1,9)\n",
    "const"
   ]
  },
  {
   "cell_type": "code",
   "execution_count": 9,
   "id": "ca0dc19c-7d36-435a-93f4-ca46bd2c6946",
   "metadata": {},
   "outputs": [],
   "source": [
    "const_arr = np.full(3, 10)"
   ]
  },
  {
   "cell_type": "code",
   "execution_count": 10,
   "id": "8b37ff72-3955-4644-9c20-ec64688de517",
   "metadata": {},
   "outputs": [
    {
     "data": {
      "text/plain": [
       "array([10, 10, 10])"
      ]
     },
     "execution_count": 10,
     "metadata": {},
     "output_type": "execute_result"
    }
   ],
   "source": [
    "const_arr"
   ]
  },
  {
   "cell_type": "code",
   "execution_count": 11,
   "id": "18c529ed-fbe9-4216-8973-6dd9990851f4",
   "metadata": {},
   "outputs": [],
   "source": [
    "const_arr = np.full(10,3)"
   ]
  },
  {
   "cell_type": "code",
   "execution_count": 13,
   "id": "a2810536-035b-404b-a1d5-605dab9f3de0",
   "metadata": {},
   "outputs": [
    {
     "data": {
      "text/plain": [
       "array([3, 3, 3, 3, 3, 3, 3, 3, 3, 3])"
      ]
     },
     "execution_count": 13,
     "metadata": {},
     "output_type": "execute_result"
    }
   ],
   "source": [
    "const_arr"
   ]
  },
  {
   "cell_type": "code",
   "execution_count": 17,
   "id": "85e1c197-7d9f-4e3c-b2ec-f394e56f4631",
   "metadata": {},
   "outputs": [],
   "source": [
    "pl = [1,2,3]\n",
    "arr = np.array(pl)"
   ]
  },
  {
   "cell_type": "code",
   "execution_count": 18,
   "id": "05bdfb8a-a825-4473-96a3-94ee6b07dcce",
   "metadata": {},
   "outputs": [
    {
     "data": {
      "text/plain": [
       "array([1, 2, 3])"
      ]
     },
     "execution_count": 18,
     "metadata": {},
     "output_type": "execute_result"
    }
   ],
   "source": [
    "arr"
   ]
  },
  {
   "cell_type": "code",
   "execution_count": 25,
   "id": "7f9640ba-52e2-4f38-82df-2246f110105e",
   "metadata": {},
   "outputs": [
    {
     "data": {
      "text/plain": [
       "array([1])"
      ]
     },
     "execution_count": 25,
     "metadata": {},
     "output_type": "execute_result"
    }
   ],
   "source": [
    "np.arange(1,10,10)"
   ]
  },
  {
   "cell_type": "code",
   "execution_count": 26,
   "id": "8938387f-9d85-449d-9eb3-a438879fff52",
   "metadata": {},
   "outputs": [],
   "source": [
    "rang_arr = np.arange(10)"
   ]
  },
  {
   "cell_type": "code",
   "execution_count": 27,
   "id": "41daf622-00a0-478e-8420-8a13aff73fb1",
   "metadata": {},
   "outputs": [
    {
     "data": {
      "text/plain": [
       "array([0, 1, 2, 3, 4, 5, 6, 7, 8, 9])"
      ]
     },
     "execution_count": 27,
     "metadata": {},
     "output_type": "execute_result"
    }
   ],
   "source": [
    "rang_arr"
   ]
  },
  {
   "cell_type": "code",
   "execution_count": 34,
   "id": "d04d8e76-d19d-45f3-b741-d630079ad93c",
   "metadata": {},
   "outputs": [],
   "source": [
    "linspace_arr = np.linspace(1,10,11)"
   ]
  },
  {
   "cell_type": "code",
   "execution_count": 36,
   "id": "d9462a1c-07b7-48ac-9202-6c3e0bfabb0f",
   "metadata": {},
   "outputs": [
    {
     "data": {
      "text/plain": [
       "array([ 1. ,  1.9,  2.8,  3.7,  4.6,  5.5,  6.4,  7.3,  8.2,  9.1, 10. ])"
      ]
     },
     "execution_count": 36,
     "metadata": {},
     "output_type": "execute_result"
    }
   ],
   "source": [
    "linspace_arr"
   ]
  },
  {
   "cell_type": "code",
   "execution_count": 41,
   "id": "067ac498-8af5-4c1a-a924-da001a7fc0cf",
   "metadata": {},
   "outputs": [],
   "source": [
    "zero_matrices = np.zeros((5,2))"
   ]
  },
  {
   "cell_type": "code",
   "execution_count": 42,
   "id": "2daa7809-2c23-4ce3-869d-34ce7e9902fb",
   "metadata": {},
   "outputs": [
    {
     "data": {
      "text/plain": [
       "array([[0., 0.],\n",
       "       [0., 0.],\n",
       "       [0., 0.],\n",
       "       [0., 0.],\n",
       "       [0., 0.]])"
      ]
     },
     "execution_count": 42,
     "metadata": {},
     "output_type": "execute_result"
    }
   ],
   "source": [
    "zero_matrices"
   ]
  },
  {
   "cell_type": "code",
   "execution_count": 43,
   "id": "b9c032d6-58b0-4f66-bfa1-2c6b61a3726a",
   "metadata": {},
   "outputs": [],
   "source": [
    "ones_matrices = np.ones((5,2))"
   ]
  },
  {
   "cell_type": "code",
   "execution_count": 44,
   "id": "7de096a2-a5a5-45d8-ac75-3141b358d029",
   "metadata": {},
   "outputs": [
    {
     "data": {
      "text/plain": [
       "array([[1., 1.],\n",
       "       [1., 1.],\n",
       "       [1., 1.],\n",
       "       [1., 1.],\n",
       "       [1., 1.]])"
      ]
     },
     "execution_count": 44,
     "metadata": {},
     "output_type": "execute_result"
    }
   ],
   "source": [
    "ones_matrices"
   ]
  },
  {
   "cell_type": "code",
   "execution_count": 55,
   "id": "970a4148-c237-48da-b79d-8439d7115004",
   "metadata": {},
   "outputs": [],
   "source": [
    "const_matrices = np.full((2,2), 3)"
   ]
  },
  {
   "cell_type": "code",
   "execution_count": 56,
   "id": "19b3755a-938d-4e97-8e9e-bcfd6b2b8ac0",
   "metadata": {},
   "outputs": [
    {
     "data": {
      "text/plain": [
       "array([[3, 3],\n",
       "       [3, 3]])"
      ]
     },
     "execution_count": 56,
     "metadata": {},
     "output_type": "execute_result"
    }
   ],
   "source": [
    "const_matrices"
   ]
  },
  {
   "cell_type": "code",
   "execution_count": 58,
   "id": "3bf8f159-9fe3-4b74-8cff-39bf51c0a793",
   "metadata": {},
   "outputs": [],
   "source": [
    "ml_list = [\n",
    "    [1,2,3],\n",
    "    [4,5,6],\n",
    "    [7,8,9]\n",
    "]\n",
    "ml_list_arr = np.array(ml_list)"
   ]
  },
  {
   "cell_type": "code",
   "execution_count": 59,
   "id": "b1683af4-9617-41ca-93e8-0dd485c5b93a",
   "metadata": {},
   "outputs": [
    {
     "data": {
      "text/plain": [
       "array([[1, 2, 3],\n",
       "       [4, 5, 6],\n",
       "       [7, 8, 9]])"
      ]
     },
     "execution_count": 59,
     "metadata": {},
     "output_type": "execute_result"
    }
   ],
   "source": [
    "ml_list_arr"
   ]
  },
  {
   "cell_type": "code",
   "execution_count": 62,
   "id": "4b50e687-44d1-4b14-9d90-fb0a0b7bb7a9",
   "metadata": {},
   "outputs": [
    {
     "data": {
      "text/plain": [
       "np.int64(6)"
      ]
     },
     "execution_count": 62,
     "metadata": {},
     "output_type": "execute_result"
    }
   ],
   "source": [
    "ml_list_arr[1,2]"
   ]
  },
  {
   "cell_type": "code",
   "execution_count": 66,
   "id": "f65ebd7c-c465-4c3c-b026-f1d7125a214e",
   "metadata": {},
   "outputs": [
    {
     "data": {
      "text/plain": [
       "array([1, 4, 7])"
      ]
     },
     "execution_count": 66,
     "metadata": {},
     "output_type": "execute_result"
    }
   ],
   "source": [
    "ml_list_arr[:,0]"
   ]
  },
  {
   "cell_type": "code",
   "execution_count": 73,
   "id": "e53f46c9-4455-4ee3-b0db-868553cf187e",
   "metadata": {},
   "outputs": [
    {
     "data": {
      "text/plain": [
       "array([[0.4359949 , 0.02592623],\n",
       "       [0.54966248, 0.43532239],\n",
       "       [0.4203678 , 0.33033482],\n",
       "       [0.20464863, 0.61927097],\n",
       "       [0.29965467, 0.26682728]])"
      ]
     },
     "execution_count": 73,
     "metadata": {},
     "output_type": "execute_result"
    }
   ],
   "source": [
    "np.random.seed(2)\n",
    "rand_arr = np.random.rand(5,2)\n",
    "rand_arr"
   ]
  },
  {
   "cell_type": "code",
   "execution_count": 74,
   "id": "e3e49ee5-e0ec-49b1-9baa-3bbf14620070",
   "metadata": {},
   "outputs": [],
   "source": [
    "normal_distribution = np.random.rand(2,5)"
   ]
  },
  {
   "cell_type": "code",
   "execution_count": 76,
   "id": "88e834bc-3f27-4c01-973d-a7c9bb1c8b4f",
   "metadata": {},
   "outputs": [
    {
     "data": {
      "text/plain": [
       "array([[0.62113383, 0.52914209, 0.13457995, 0.51357812, 0.18443987],\n",
       "       [0.78533515, 0.85397529, 0.49423684, 0.84656149, 0.07964548]])"
      ]
     },
     "execution_count": 76,
     "metadata": {},
     "output_type": "execute_result"
    }
   ],
   "source": [
    "normal_distribution"
   ]
  },
  {
   "cell_type": "code",
   "execution_count": 78,
   "id": "95757e0b-6d4f-4faa-9cdf-02245f28683a",
   "metadata": {},
   "outputs": [
    {
     "data": {
      "text/plain": [
       "array([[68, 46, 70, 95, 83],\n",
       "       [31, 66, 80, 52, 76]])"
      ]
     },
     "execution_count": 78,
     "metadata": {},
     "output_type": "execute_result"
    }
   ],
   "source": [
    "np.random.randint(low=0, high=100, size=(2,5))"
   ]
  },
  {
   "cell_type": "code",
   "execution_count": 79,
   "id": "23cf49a4-79f4-42ee-8ddb-51fe9e14ce38",
   "metadata": {},
   "outputs": [
    {
     "data": {
      "text/plain": [
       "array([1, 2, 3])"
      ]
     },
     "execution_count": 79,
     "metadata": {},
     "output_type": "execute_result"
    }
   ],
   "source": [
    "arr"
   ]
  },
  {
   "cell_type": "code",
   "execution_count": 80,
   "id": "36bf9ba3-3cc7-481d-b6db-4d0cf5941f66",
   "metadata": {},
   "outputs": [
    {
     "data": {
      "text/plain": [
       "array([2, 3, 4])"
      ]
     },
     "execution_count": 80,
     "metadata": {},
     "output_type": "execute_result"
    }
   ],
   "source": [
    "arr + 1"
   ]
  },
  {
   "cell_type": "code",
   "execution_count": 85,
   "id": "00a5afcd-7dea-48da-b437-6ecb96f24568",
   "metadata": {},
   "outputs": [],
   "source": [
    "arr_mul = arr ** 2"
   ]
  },
  {
   "cell_type": "code",
   "execution_count": 88,
   "id": "1075da82-5e13-463f-ab98-f31616aa3a8b",
   "metadata": {},
   "outputs": [
    {
     "data": {
      "text/plain": [
       "array([0, 2, 6])"
      ]
     },
     "execution_count": 88,
     "metadata": {},
     "output_type": "execute_result"
    }
   ],
   "source": [
    "arr_mul   - arr"
   ]
  },
  {
   "cell_type": "code",
   "execution_count": 93,
   "id": "cd314fce-3d64-4cca-b211-27a4253b4534",
   "metadata": {},
   "outputs": [
    {
     "data": {
      "text/plain": [
       "(array([[1, 2, 3],\n",
       "        [4, 5, 6],\n",
       "        [7, 8, 9]]),\n",
       " array([1, 4, 9]))"
      ]
     },
     "execution_count": 93,
     "metadata": {},
     "output_type": "execute_result"
    }
   ],
   "source": [
    "ml_list_arr, arr_mul"
   ]
  },
  {
   "cell_type": "code",
   "execution_count": 102,
   "id": "1836088f-484b-4901-bec3-00d8c611f45e",
   "metadata": {},
   "outputs": [],
   "source": [
    " ml = ml_list_arr + arr_mul"
   ]
  },
  {
   "cell_type": "code",
   "execution_count": 94,
   "id": "ed0f02bc-cf7c-481a-a952-8c3cf018c20b",
   "metadata": {},
   "outputs": [
    {
     "data": {
      "text/plain": [
       "array([False,  True,  True])"
      ]
     },
     "execution_count": 94,
     "metadata": {},
     "output_type": "execute_result"
    }
   ],
   "source": [
    "arr_mul > 2"
   ]
  },
  {
   "cell_type": "code",
   "execution_count": 95,
   "id": "0f6275ca-b28b-43a7-9dee-c64712c9a683",
   "metadata": {},
   "outputs": [],
   "source": [
    "filtered = [arr_mul>2]"
   ]
  },
  {
   "cell_type": "code",
   "execution_count": 96,
   "id": "c3cabe76-2c28-4483-80e5-2c03608577d2",
   "metadata": {},
   "outputs": [
    {
     "data": {
      "text/plain": [
       "[array([False,  True,  True])]"
      ]
     },
     "execution_count": 96,
     "metadata": {},
     "output_type": "execute_result"
    }
   ],
   "source": [
    "filtered"
   ]
  },
  {
   "cell_type": "code",
   "execution_count": 103,
   "id": "bbeeb6cd-096e-4fb9-9bef-707be7850a26",
   "metadata": {},
   "outputs": [],
   "source": [
    "only_10s = ml > 9"
   ]
  },
  {
   "cell_type": "code",
   "execution_count": 104,
   "id": "867a60d6-d470-4044-aab6-17e9ae652b8e",
   "metadata": {},
   "outputs": [
    {
     "data": {
      "text/plain": [
       "array([[False, False,  True],\n",
       "       [False, False,  True],\n",
       "       [False,  True,  True]])"
      ]
     },
     "execution_count": 104,
     "metadata": {},
     "output_type": "execute_result"
    }
   ],
   "source": [
    "only_10s"
   ]
  },
  {
   "cell_type": "code",
   "execution_count": 111,
   "id": "54c7c3f1-6d97-4650-943f-34d82ecf4e7e",
   "metadata": {},
   "outputs": [
    {
     "name": "stdout",
     "output_type": "stream",
     "text": [
      "[[ 2  6 12]\n",
      " [ 5  9 15]\n",
      " [ 8 12 18]]\n"
     ]
    },
    {
     "data": {
      "text/plain": [
       "np.int64(2)"
      ]
     },
     "execution_count": 111,
     "metadata": {},
     "output_type": "execute_result"
    }
   ],
   "source": [
    "print (ml)\n",
    "ml.min()"
   ]
  },
  {
   "cell_type": "code",
   "execution_count": 108,
   "id": "2156fd45-9300-4098-8283-6e3534f4dda4",
   "metadata": {},
   "outputs": [
    {
     "data": {
      "text/plain": [
       "np.int64(18)"
      ]
     },
     "execution_count": 108,
     "metadata": {},
     "output_type": "execute_result"
    }
   ],
   "source": [
    "ml.max()"
   ]
  },
  {
   "cell_type": "code",
   "execution_count": 113,
   "id": "ab6ef656-bf8e-400a-b9cf-38437df4df8b",
   "metadata": {},
   "outputs": [
    {
     "data": {
      "text/plain": [
       "np.int64(87)"
      ]
     },
     "execution_count": 113,
     "metadata": {},
     "output_type": "execute_result"
    }
   ],
   "source": [
    "ml.sum()"
   ]
  },
  {
   "cell_type": "code",
   "execution_count": 115,
   "id": "2a5d505e-9a79-4e1d-842b-8bf282333d01",
   "metadata": {},
   "outputs": [
    {
     "data": {
      "text/plain": [
       "np.float64(9.666666666666666)"
      ]
     },
     "execution_count": 115,
     "metadata": {},
     "output_type": "execute_result"
    }
   ],
   "source": [
    "ml.mean()"
   ]
  },
  {
   "cell_type": "code",
   "execution_count": 117,
   "id": "f71cfc6e-20e1-4db6-a83f-71ca354fce9e",
   "metadata": {},
   "outputs": [
    {
     "data": {
      "text/plain": [
       "np.float64(4.784233364802441)"
      ]
     },
     "execution_count": 117,
     "metadata": {},
     "output_type": "execute_result"
    }
   ],
   "source": [
    "ml.std()"
   ]
  },
  {
   "cell_type": "code",
   "execution_count": 118,
   "id": "aa1e661f-718b-4038-9fb2-8324f110bbae",
   "metadata": {},
   "outputs": [
    {
     "data": {
      "text/plain": [
       "array([2, 4, 5, 6])"
      ]
     },
     "execution_count": 118,
     "metadata": {},
     "output_type": "execute_result"
    }
   ],
   "source": [
    "u = np.array([2,4,5,6])\n",
    "u"
   ]
  },
  {
   "cell_type": "code",
   "execution_count": 119,
   "id": "cf7c8ff4-d07e-43c7-8d01-ca182bba2e8c",
   "metadata": {},
   "outputs": [
    {
     "data": {
      "text/plain": [
       "array([1, 0, 0, 2])"
      ]
     },
     "execution_count": 119,
     "metadata": {},
     "output_type": "execute_result"
    }
   ],
   "source": [
    "v = np.array([1,0,0,2])\n",
    "v"
   ]
  },
  {
   "cell_type": "code",
   "execution_count": 120,
   "id": "2c24e57c-22d8-4d6c-98b4-857debbc177c",
   "metadata": {},
   "outputs": [
    {
     "data": {
      "text/plain": [
       "array([3, 4, 5, 8])"
      ]
     },
     "execution_count": 120,
     "metadata": {},
     "output_type": "execute_result"
    }
   ],
   "source": [
    "u+v"
   ]
  },
  {
   "cell_type": "code",
   "execution_count": 121,
   "id": "766f7b21-fbee-42e1-9a9d-52cc93898d70",
   "metadata": {},
   "outputs": [
    {
     "data": {
      "text/plain": [
       "array([ 2,  0,  0, 12])"
      ]
     },
     "execution_count": 121,
     "metadata": {},
     "output_type": "execute_result"
    }
   ],
   "source": [
    "u*v"
   ]
  },
  {
   "cell_type": "code",
   "execution_count": 127,
   "id": "908009a5-6bc7-4631-878d-48fa17300ec5",
   "metadata": {},
   "outputs": [
    {
     "data": {
      "text/plain": [
       "4"
      ]
     },
     "execution_count": 127,
     "metadata": {},
     "output_type": "execute_result"
    }
   ],
   "source": [
    "u.shape[0]"
   ]
  },
  {
   "cell_type": "code",
   "execution_count": 129,
   "id": "18d8d78a-c972-438f-b0f1-ac0448e9c296",
   "metadata": {},
   "outputs": [
    {
     "data": {
      "text/plain": [
       "4"
      ]
     },
     "execution_count": 129,
     "metadata": {},
     "output_type": "execute_result"
    }
   ],
   "source": [
    "v.shape[0]"
   ]
  },
  {
   "cell_type": "code",
   "execution_count": 130,
   "id": "40a7a32e-50b0-4f72-b8db-7857400f680a",
   "metadata": {},
   "outputs": [],
   "source": [
    "def vector_vector_mul(u,v):\n",
    "    assert u.shape[0] == v.shape[0]\n",
    "\n",
    "    result = 0\n",
    "    for i in range(u.shape[0]):\n",
    "        result = result + u[i] * v[i]\n",
    "\n",
    "    return result"
   ]
  },
  {
   "cell_type": "code",
   "execution_count": 133,
   "id": "429f1249-e88b-4415-af27-ebdd73d7500a",
   "metadata": {},
   "outputs": [
    {
     "data": {
      "text/plain": [
       "np.float64(14.0)"
      ]
     },
     "execution_count": 133,
     "metadata": {},
     "output_type": "execute_result"
    }
   ],
   "source": [
    "vector_vector_mul(u,v)"
   ]
  },
  {
   "cell_type": "code",
   "execution_count": 134,
   "id": "d5c6612c-46fe-4816-8da4-574763a86b72",
   "metadata": {},
   "outputs": [
    {
     "data": {
      "text/plain": [
       "np.int64(14)"
      ]
     },
     "execution_count": 134,
     "metadata": {},
     "output_type": "execute_result"
    }
   ],
   "source": [
    "u.dot(v)"
   ]
  },
  {
   "cell_type": "code",
   "execution_count": 140,
   "id": "bfbd343c-c0dd-4464-a5bc-ebd790a19069",
   "metadata": {},
   "outputs": [],
   "source": [
    "m = np.array([\n",
    "    [2,4,5,6],\n",
    "    [1,2,1,2],\n",
    "    [3,1,2,1],\n",
    "])"
   ]
  },
  {
   "cell_type": "code",
   "execution_count": 141,
   "id": "649fb6bb-2f61-4b39-8267-6409c88fd0fd",
   "metadata": {},
   "outputs": [
    {
     "data": {
      "text/plain": [
       "array([[2, 4, 5, 6],\n",
       "       [1, 2, 1, 2],\n",
       "       [3, 1, 2, 1]])"
      ]
     },
     "execution_count": 141,
     "metadata": {},
     "output_type": "execute_result"
    }
   ],
   "source": [
    "m"
   ]
  },
  {
   "cell_type": "code",
   "execution_count": 145,
   "id": "491144a0-5810-4dfb-bcd2-35155144d20d",
   "metadata": {},
   "outputs": [
    {
     "data": {
      "text/plain": [
       "(4,)"
      ]
     },
     "execution_count": 145,
     "metadata": {},
     "output_type": "execute_result"
    }
   ],
   "source": [
    "u.shape"
   ]
  },
  {
   "cell_type": "code",
   "execution_count": 144,
   "id": "dbee24ad-ab68-4e51-a2c8-b19cbee2a480",
   "metadata": {},
   "outputs": [
    {
     "data": {
      "text/plain": [
       "array([[ 4, 16, 25, 36],\n",
       "       [ 2,  8,  5, 12],\n",
       "       [ 6,  4, 10,  6]])"
      ]
     },
     "execution_count": 144,
     "metadata": {},
     "output_type": "execute_result"
    }
   ],
   "source": []
  },
  {
   "cell_type": "code",
   "execution_count": 151,
   "id": "97697f47-f930-40d2-9547-a33f7adacb82",
   "metadata": {},
   "outputs": [
    {
     "data": {
      "text/plain": [
       "array([81, 27, 26])"
      ]
     },
     "execution_count": 151,
     "metadata": {},
     "output_type": "execute_result"
    }
   ],
   "source": [
    "m.dot(u)\n",
    "\n"
   ]
  },
  {
   "cell_type": "code",
   "execution_count": 152,
   "id": "9c04ee39-43ae-4a91-a6dc-0b2ad3f31687",
   "metadata": {},
   "outputs": [
    {
     "data": {
      "text/plain": [
       "(3, 4)"
      ]
     },
     "execution_count": 152,
     "metadata": {},
     "output_type": "execute_result"
    }
   ],
   "source": [
    "m.shape"
   ]
  },
  {
   "cell_type": "code",
   "execution_count": 157,
   "id": "76b894bd-ce2d-491a-8c0d-a8d5d9432c00",
   "metadata": {},
   "outputs": [],
   "source": [
    "def matrix_vector_mul(U, v):\n",
    "    assert U.shape[1] == v.shape[0]\n",
    "\n",
    "    rows = U.shape[0]\n",
    "    results = np.zeros(rows)\n",
    "\n",
    "    for i in range (rows):\n",
    "        results[i] = vector_vector_mul(U[i], v)\n",
    "    return results"
   ]
  },
  {
   "cell_type": "code",
   "execution_count": 159,
   "id": "09b42223-b856-49fb-8dba-96b843ebfb80",
   "metadata": {},
   "outputs": [
    {
     "data": {
      "text/plain": [
       "array([14.,  5.,  5.])"
      ]
     },
     "execution_count": 159,
     "metadata": {},
     "output_type": "execute_result"
    }
   ],
   "source": [
    "matrix_vector_mul(m,v)"
   ]
  },
  {
   "cell_type": "code",
   "execution_count": 160,
   "id": "c5ad35e9-9a64-458c-8666-5cd2c367179d",
   "metadata": {},
   "outputs": [
    {
     "data": {
      "text/plain": [
       "array([14,  5,  5])"
      ]
     },
     "execution_count": 160,
     "metadata": {},
     "output_type": "execute_result"
    }
   ],
   "source": [
    "m.dot(v)"
   ]
  },
  {
   "cell_type": "code",
   "execution_count": 166,
   "id": "f984c2fd-f140-4aaa-b0ee-eaa61ba3d678",
   "metadata": {},
   "outputs": [
    {
     "data": {
      "text/plain": [
       "(4, 3)"
      ]
     },
     "execution_count": 166,
     "metadata": {},
     "output_type": "execute_result"
    }
   ],
   "source": [
    "V = np.array([\n",
    "     [1,1,2],\n",
    "    [0, .5,1],\n",
    "    [0,2,1],\n",
    "    [2,1,0]\n",
    "    ])\n",
    "V.shape\n"
   ]
  },
  {
   "cell_type": "code",
   "execution_count": 167,
   "id": "ea83c0b5-8662-41eb-8f7c-33a4b40dd2c1",
   "metadata": {},
   "outputs": [
    {
     "data": {
      "text/plain": [
       "array([1., 0., 0., 2.])"
      ]
     },
     "execution_count": 167,
     "metadata": {},
     "output_type": "execute_result"
    }
   ],
   "source": [
    "V[:,0]"
   ]
  },
  {
   "cell_type": "code",
   "execution_count": 163,
   "id": "7199533a-4468-4a65-9ffc-4057fda50d8f",
   "metadata": {},
   "outputs": [
    {
     "data": {
      "text/plain": [
       "array([[0., 0., 0.],\n",
       "       [0., 0., 0.],\n",
       "       [0., 0., 0.],\n",
       "       [0., 0., 0.]])"
      ]
     },
     "execution_count": 163,
     "metadata": {},
     "output_type": "execute_result"
    }
   ],
   "source": [
    "np.zeros((4,3))\n",
    "        \n",
    "        "
   ]
  },
  {
   "cell_type": "code",
   "execution_count": 171,
   "id": "9e9addf2-f55b-42a6-989d-67a046e89ac2",
   "metadata": {},
   "outputs": [],
   "source": [
    "def matrix_matrix_mul(U,V):\n",
    "    assert U.shape[1] == V.shape[0]\n",
    "\n",
    "    num_rows = U.shape[0]\n",
    "    num_cols = V.shape[1]\n",
    "    \n",
    "    results = np.zeros((num_rows, num_cols))\n",
    "\n",
    "    for i in range(num_cols):\n",
    "        vi = V[:, i]\n",
    "        Uvi = matrix_vector_mul(U,vi)\n",
    "        results[:, i] = Uvi\n",
    "    return results"
   ]
  },
  {
   "cell_type": "code",
   "execution_count": 177,
   "id": "d3fa50c0-c963-4052-ac0e-6a170f45d570",
   "metadata": {},
   "outputs": [
    {
     "data": {
      "text/plain": [
       "array([[2, 4, 5, 6],\n",
       "       [1, 2, 1, 2],\n",
       "       [3, 1, 2, 1]])"
      ]
     },
     "execution_count": 177,
     "metadata": {},
     "output_type": "execute_result"
    }
   ],
   "source": [
    "m"
   ]
  },
  {
   "cell_type": "code",
   "execution_count": 178,
   "id": "b6a489d0-e502-4d01-9445-2498310254ac",
   "metadata": {},
   "outputs": [
    {
     "data": {
      "text/plain": [
       "array([[1. , 1. , 2. ],\n",
       "       [0. , 0.5, 1. ],\n",
       "       [0. , 2. , 1. ],\n",
       "       [2. , 1. , 0. ]])"
      ]
     },
     "execution_count": 178,
     "metadata": {},
     "output_type": "execute_result"
    }
   ],
   "source": [
    "V"
   ]
  },
  {
   "cell_type": "code",
   "execution_count": 176,
   "id": "d77cf3c0-cedb-4274-a97b-320b82392836",
   "metadata": {},
   "outputs": [
    {
     "data": {
      "text/plain": [
       "array([[14. , 20. , 13. ],\n",
       "       [ 5. ,  6. ,  5. ],\n",
       "       [ 5. ,  8.5,  9. ]])"
      ]
     },
     "execution_count": 176,
     "metadata": {},
     "output_type": "execute_result"
    }
   ],
   "source": [
    "matrix_matrix_mul(m, V)"
   ]
  },
  {
   "cell_type": "code",
   "execution_count": 174,
   "id": "eaa37d2f-0244-4bd5-85d6-7496f33ec347",
   "metadata": {},
   "outputs": [
    {
     "data": {
      "text/plain": [
       "array([[14. , 20. , 13. ],\n",
       "       [ 5. ,  6. ,  5. ],\n",
       "       [ 5. ,  8.5,  9. ]])"
      ]
     },
     "execution_count": 174,
     "metadata": {},
     "output_type": "execute_result"
    }
   ],
   "source": [
    "m.dot(V)"
   ]
  },
  {
   "cell_type": "code",
   "execution_count": 179,
   "id": "40001010-b7b2-4a28-8a48-9d8b49632b1b",
   "metadata": {},
   "outputs": [
    {
     "data": {
      "text/plain": [
       "array([[1., 0., 0.],\n",
       "       [0., 1., 0.],\n",
       "       [0., 0., 1.]])"
      ]
     },
     "execution_count": 179,
     "metadata": {},
     "output_type": "execute_result"
    }
   ],
   "source": [
    "I = np.eye(3)\n",
    "I"
   ]
  },
  {
   "cell_type": "code",
   "execution_count": 181,
   "id": "690e3807-200b-4f9c-a557-c519ba23335c",
   "metadata": {},
   "outputs": [
    {
     "data": {
      "text/plain": [
       "array([[2., 4., 5., 6.],\n",
       "       [1., 2., 1., 2.],\n",
       "       [3., 1., 2., 1.]])"
      ]
     },
     "execution_count": 181,
     "metadata": {},
     "output_type": "execute_result"
    }
   ],
   "source": [
    "I.dot(m)"
   ]
  },
  {
   "cell_type": "code",
   "execution_count": 183,
   "id": "4c2210a8-7e7c-4e34-9233-2556b8768b04",
   "metadata": {},
   "outputs": [
    {
     "data": {
      "text/plain": [
       "array([[1. , 1. , 2. ],\n",
       "       [0. , 0.5, 1. ],\n",
       "       [0. , 2. , 1. ],\n",
       "       [2. , 1. , 0. ]])"
      ]
     },
     "execution_count": 183,
     "metadata": {},
     "output_type": "execute_result"
    }
   ],
   "source": [
    "V"
   ]
  },
  {
   "cell_type": "code",
   "execution_count": null,
   "id": "21847381-c30c-4576-a8ac-f80ec9bd208f",
   "metadata": {},
   "outputs": [],
   "source": []
  }
 ],
 "metadata": {
  "kernelspec": {
   "display_name": "Python 3 (ipykernel)",
   "language": "python",
   "name": "python3"
  },
  "language_info": {
   "codemirror_mode": {
    "name": "ipython",
    "version": 3
   },
   "file_extension": ".py",
   "mimetype": "text/x-python",
   "name": "python",
   "nbconvert_exporter": "python",
   "pygments_lexer": "ipython3",
   "version": "3.11.9"
  }
 },
 "nbformat": 4,
 "nbformat_minor": 5
}
